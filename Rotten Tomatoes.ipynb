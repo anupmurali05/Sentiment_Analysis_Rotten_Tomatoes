{
 "cells": [
  {
   "cell_type": "markdown",
   "id": "d3f06a11",
   "metadata": {},
   "source": [
    "# <font size=5> <font color = darkblue>Sentiment Analysis - Rotten_Tomatoes_Movie_Review\n",
    "---"
   ]
  },
  {
   "cell_type": "code",
   "execution_count": 1,
   "id": "97014374",
   "metadata": {},
   "outputs": [],
   "source": [
    "import pandas as pd\n",
    "import numpy as np\n",
    "import matplotlib.pyplot as plt\n",
    "import seaborn as sns"
   ]
  },
  {
   "cell_type": "code",
   "execution_count": 2,
   "id": "894968a3",
   "metadata": {},
   "outputs": [],
   "source": [
    "plt.rcParams['font.size']=14\n",
    "plt.rcParams['axes.grid']= True\n",
    "pd.options.display.max_colwidth = 150"
   ]
  },
  {
   "cell_type": "code",
   "execution_count": 3,
   "id": "494d99db",
   "metadata": {},
   "outputs": [
    {
     "data": {
      "text/html": [
       "<div>\n",
       "<style scoped>\n",
       "    .dataframe tbody tr th:only-of-type {\n",
       "        vertical-align: middle;\n",
       "    }\n",
       "\n",
       "    .dataframe tbody tr th {\n",
       "        vertical-align: top;\n",
       "    }\n",
       "\n",
       "    .dataframe thead th {\n",
       "        text-align: right;\n",
       "    }\n",
       "</style>\n",
       "<table border=\"1\" class=\"dataframe\">\n",
       "  <thead>\n",
       "    <tr style=\"text-align: right;\">\n",
       "      <th></th>\n",
       "      <th>rotten_tomatoes_link</th>\n",
       "      <th>critic_name</th>\n",
       "      <th>top_critic</th>\n",
       "      <th>publisher_name</th>\n",
       "      <th>review_type</th>\n",
       "      <th>review_score</th>\n",
       "      <th>review_date</th>\n",
       "      <th>review_content</th>\n",
       "    </tr>\n",
       "  </thead>\n",
       "  <tbody>\n",
       "    <tr>\n",
       "      <th>0</th>\n",
       "      <td>m/0814255</td>\n",
       "      <td>Andrew L. Urban</td>\n",
       "      <td>False</td>\n",
       "      <td>Urban Cinefile</td>\n",
       "      <td>Fresh</td>\n",
       "      <td>NaN</td>\n",
       "      <td>2/6/2010</td>\n",
       "      <td>A fantasy adventure that fuses Greek mythology to contemporary American places and values. Anyone around 15 (give or take a couple of years) will ...</td>\n",
       "    </tr>\n",
       "    <tr>\n",
       "      <th>1</th>\n",
       "      <td>m/0814255</td>\n",
       "      <td>Louise Keller</td>\n",
       "      <td>False</td>\n",
       "      <td>Urban Cinefile</td>\n",
       "      <td>Fresh</td>\n",
       "      <td>NaN</td>\n",
       "      <td>2/6/2010</td>\n",
       "      <td>Uma Thurman as Medusa, the gorgon with a coiffure of writhing snakes and stone-inducing hypnotic gaze is one of the highlights of this bewitching ...</td>\n",
       "    </tr>\n",
       "    <tr>\n",
       "      <th>2</th>\n",
       "      <td>m/0814255</td>\n",
       "      <td>NaN</td>\n",
       "      <td>False</td>\n",
       "      <td>FILMINK (Australia)</td>\n",
       "      <td>Fresh</td>\n",
       "      <td>NaN</td>\n",
       "      <td>2/9/2010</td>\n",
       "      <td>With a top-notch cast and dazzling special effects, this will tide the teens over until the next Harry Potter instalment.</td>\n",
       "    </tr>\n",
       "    <tr>\n",
       "      <th>3</th>\n",
       "      <td>m/0814255</td>\n",
       "      <td>Ben McEachen</td>\n",
       "      <td>False</td>\n",
       "      <td>Sunday Mail (Australia)</td>\n",
       "      <td>Fresh</td>\n",
       "      <td>3.5/5</td>\n",
       "      <td>2/9/2010</td>\n",
       "      <td>Whether audiences will get behind The Lightning Thief is hard to predict. Overall, it's an entertaining introduction to a promising new world -- b...</td>\n",
       "    </tr>\n",
       "    <tr>\n",
       "      <th>4</th>\n",
       "      <td>m/0814255</td>\n",
       "      <td>Ethan Alter</td>\n",
       "      <td>True</td>\n",
       "      <td>Hollywood Reporter</td>\n",
       "      <td>Rotten</td>\n",
       "      <td>NaN</td>\n",
       "      <td>2/10/2010</td>\n",
       "      <td>What's really lacking in The Lightning Thief is a genuine sense of wonder, the same thing that brings viewers back to Hogwarts over and over again.</td>\n",
       "    </tr>\n",
       "  </tbody>\n",
       "</table>\n",
       "</div>"
      ],
      "text/plain": [
       "  rotten_tomatoes_link      critic_name  top_critic           publisher_name  \\\n",
       "0            m/0814255  Andrew L. Urban       False           Urban Cinefile   \n",
       "1            m/0814255    Louise Keller       False           Urban Cinefile   \n",
       "2            m/0814255              NaN       False      FILMINK (Australia)   \n",
       "3            m/0814255     Ben McEachen       False  Sunday Mail (Australia)   \n",
       "4            m/0814255      Ethan Alter        True       Hollywood Reporter   \n",
       "\n",
       "  review_type review_score review_date  \\\n",
       "0       Fresh          NaN    2/6/2010   \n",
       "1       Fresh          NaN    2/6/2010   \n",
       "2       Fresh          NaN    2/9/2010   \n",
       "3       Fresh        3.5/5    2/9/2010   \n",
       "4      Rotten          NaN   2/10/2010   \n",
       "\n",
       "                                                                                                                                          review_content  \n",
       "0  A fantasy adventure that fuses Greek mythology to contemporary American places and values. Anyone around 15 (give or take a couple of years) will ...  \n",
       "1  Uma Thurman as Medusa, the gorgon with a coiffure of writhing snakes and stone-inducing hypnotic gaze is one of the highlights of this bewitching ...  \n",
       "2                              With a top-notch cast and dazzling special effects, this will tide the teens over until the next Harry Potter instalment.  \n",
       "3  Whether audiences will get behind The Lightning Thief is hard to predict. Overall, it's an entertaining introduction to a promising new world -- b...  \n",
       "4    What's really lacking in The Lightning Thief is a genuine sense of wonder, the same thing that brings viewers back to Hogwarts over and over again.  "
      ]
     },
     "execution_count": 3,
     "metadata": {},
     "output_type": "execute_result"
    }
   ],
   "source": [
    "df = pd.read_csv('C:\\\\Users\\\\am236\\\\OneDrive - DXC Production\\\\Desktop\\\\DSBA\\\\Machine Learning\\\\Datasets\\\\Rotan Tomatoes.csv')\n",
    "df.head()"
   ]
  },
  {
   "cell_type": "code",
   "execution_count": 4,
   "id": "0c2efee7",
   "metadata": {},
   "outputs": [
    {
     "data": {
      "text/plain": [
       "(1048575, 8)"
      ]
     },
     "execution_count": 4,
     "metadata": {},
     "output_type": "execute_result"
    }
   ],
   "source": [
    "df.shape"
   ]
  },
  {
   "cell_type": "code",
   "execution_count": 5,
   "id": "1f463e0a",
   "metadata": {},
   "outputs": [
    {
     "data": {
      "text/plain": [
       "rotten_tomatoes_link         0\n",
       "critic_name              17203\n",
       "top_critic                   0\n",
       "publisher_name               0\n",
       "review_type                  0\n",
       "review_score            283929\n",
       "review_date                  0\n",
       "review_content           61437\n",
       "dtype: int64"
      ]
     },
     "execution_count": 5,
     "metadata": {},
     "output_type": "execute_result"
    }
   ],
   "source": [
    "df.isnull().sum()"
   ]
  },
  {
   "cell_type": "markdown",
   "id": "ce876a02",
   "metadata": {},
   "source": [
    "## Dropping Unimportant Variables."
   ]
  },
  {
   "cell_type": "code",
   "execution_count": 6,
   "id": "65d4d462",
   "metadata": {},
   "outputs": [],
   "source": [
    "df.drop(['critic_name','review_date','publisher_name','review_score','top_critic','rotten_tomatoes_link'],axis =1,inplace=True)"
   ]
  },
  {
   "cell_type": "code",
   "execution_count": 7,
   "id": "2d85e8f2",
   "metadata": {},
   "outputs": [
    {
     "data": {
      "text/html": [
       "<div>\n",
       "<style scoped>\n",
       "    .dataframe tbody tr th:only-of-type {\n",
       "        vertical-align: middle;\n",
       "    }\n",
       "\n",
       "    .dataframe tbody tr th {\n",
       "        vertical-align: top;\n",
       "    }\n",
       "\n",
       "    .dataframe thead th {\n",
       "        text-align: right;\n",
       "    }\n",
       "</style>\n",
       "<table border=\"1\" class=\"dataframe\">\n",
       "  <thead>\n",
       "    <tr style=\"text-align: right;\">\n",
       "      <th></th>\n",
       "      <th>review_type</th>\n",
       "      <th>review_content</th>\n",
       "    </tr>\n",
       "  </thead>\n",
       "  <tbody>\n",
       "    <tr>\n",
       "      <th>0</th>\n",
       "      <td>Fresh</td>\n",
       "      <td>A fantasy adventure that fuses Greek mythology to contemporary American places and values. Anyone around 15 (give or take a couple of years) will ...</td>\n",
       "    </tr>\n",
       "    <tr>\n",
       "      <th>1</th>\n",
       "      <td>Fresh</td>\n",
       "      <td>Uma Thurman as Medusa, the gorgon with a coiffure of writhing snakes and stone-inducing hypnotic gaze is one of the highlights of this bewitching ...</td>\n",
       "    </tr>\n",
       "    <tr>\n",
       "      <th>2</th>\n",
       "      <td>Fresh</td>\n",
       "      <td>With a top-notch cast and dazzling special effects, this will tide the teens over until the next Harry Potter instalment.</td>\n",
       "    </tr>\n",
       "    <tr>\n",
       "      <th>3</th>\n",
       "      <td>Fresh</td>\n",
       "      <td>Whether audiences will get behind The Lightning Thief is hard to predict. Overall, it's an entertaining introduction to a promising new world -- b...</td>\n",
       "    </tr>\n",
       "    <tr>\n",
       "      <th>4</th>\n",
       "      <td>Rotten</td>\n",
       "      <td>What's really lacking in The Lightning Thief is a genuine sense of wonder, the same thing that brings viewers back to Hogwarts over and over again.</td>\n",
       "    </tr>\n",
       "  </tbody>\n",
       "</table>\n",
       "</div>"
      ],
      "text/plain": [
       "  review_type  \\\n",
       "0       Fresh   \n",
       "1       Fresh   \n",
       "2       Fresh   \n",
       "3       Fresh   \n",
       "4      Rotten   \n",
       "\n",
       "                                                                                                                                          review_content  \n",
       "0  A fantasy adventure that fuses Greek mythology to contemporary American places and values. Anyone around 15 (give or take a couple of years) will ...  \n",
       "1  Uma Thurman as Medusa, the gorgon with a coiffure of writhing snakes and stone-inducing hypnotic gaze is one of the highlights of this bewitching ...  \n",
       "2                              With a top-notch cast and dazzling special effects, this will tide the teens over until the next Harry Potter instalment.  \n",
       "3  Whether audiences will get behind The Lightning Thief is hard to predict. Overall, it's an entertaining introduction to a promising new world -- b...  \n",
       "4    What's really lacking in The Lightning Thief is a genuine sense of wonder, the same thing that brings viewers back to Hogwarts over and over again.  "
      ]
     },
     "execution_count": 7,
     "metadata": {},
     "output_type": "execute_result"
    }
   ],
   "source": [
    "df.head()"
   ]
  },
  {
   "cell_type": "code",
   "execution_count": 8,
   "id": "78b06dca",
   "metadata": {},
   "outputs": [
    {
     "data": {
      "text/html": [
       "<div>\n",
       "<style scoped>\n",
       "    .dataframe tbody tr th:only-of-type {\n",
       "        vertical-align: middle;\n",
       "    }\n",
       "\n",
       "    .dataframe tbody tr th {\n",
       "        vertical-align: top;\n",
       "    }\n",
       "\n",
       "    .dataframe thead th {\n",
       "        text-align: right;\n",
       "    }\n",
       "</style>\n",
       "<table border=\"1\" class=\"dataframe\">\n",
       "  <thead>\n",
       "    <tr style=\"text-align: right;\">\n",
       "      <th></th>\n",
       "      <th>review_type</th>\n",
       "      <th>review_content</th>\n",
       "    </tr>\n",
       "  </thead>\n",
       "  <tbody>\n",
       "    <tr>\n",
       "      <th>0</th>\n",
       "      <td>1</td>\n",
       "      <td>A fantasy adventure that fuses Greek mythology to contemporary American places and values. Anyone around 15 (give or take a couple of years) will ...</td>\n",
       "    </tr>\n",
       "    <tr>\n",
       "      <th>1</th>\n",
       "      <td>1</td>\n",
       "      <td>Uma Thurman as Medusa, the gorgon with a coiffure of writhing snakes and stone-inducing hypnotic gaze is one of the highlights of this bewitching ...</td>\n",
       "    </tr>\n",
       "    <tr>\n",
       "      <th>2</th>\n",
       "      <td>1</td>\n",
       "      <td>With a top-notch cast and dazzling special effects, this will tide the teens over until the next Harry Potter instalment.</td>\n",
       "    </tr>\n",
       "    <tr>\n",
       "      <th>3</th>\n",
       "      <td>1</td>\n",
       "      <td>Whether audiences will get behind The Lightning Thief is hard to predict. Overall, it's an entertaining introduction to a promising new world -- b...</td>\n",
       "    </tr>\n",
       "    <tr>\n",
       "      <th>4</th>\n",
       "      <td>0</td>\n",
       "      <td>What's really lacking in The Lightning Thief is a genuine sense of wonder, the same thing that brings viewers back to Hogwarts over and over again.</td>\n",
       "    </tr>\n",
       "  </tbody>\n",
       "</table>\n",
       "</div>"
      ],
      "text/plain": [
       "   review_type  \\\n",
       "0            1   \n",
       "1            1   \n",
       "2            1   \n",
       "3            1   \n",
       "4            0   \n",
       "\n",
       "                                                                                                                                          review_content  \n",
       "0  A fantasy adventure that fuses Greek mythology to contemporary American places and values. Anyone around 15 (give or take a couple of years) will ...  \n",
       "1  Uma Thurman as Medusa, the gorgon with a coiffure of writhing snakes and stone-inducing hypnotic gaze is one of the highlights of this bewitching ...  \n",
       "2                              With a top-notch cast and dazzling special effects, this will tide the teens over until the next Harry Potter instalment.  \n",
       "3  Whether audiences will get behind The Lightning Thief is hard to predict. Overall, it's an entertaining introduction to a promising new world -- b...  \n",
       "4    What's really lacking in The Lightning Thief is a genuine sense of wonder, the same thing that brings viewers back to Hogwarts over and over again.  "
      ]
     },
     "execution_count": 8,
     "metadata": {},
     "output_type": "execute_result"
    }
   ],
   "source": [
    "df.review_type = df.review_type.map({'Fresh':1, 'Rotten':0}) ## Assigning Positive review as 1 and Negative review as 0\n",
    "df.head()"
   ]
  },
  {
   "cell_type": "code",
   "execution_count": 9,
   "id": "d304c934",
   "metadata": {},
   "outputs": [
    {
     "data": {
      "text/plain": [
       "<AxesSubplot:xlabel='review_type', ylabel='count'>"
      ]
     },
     "execution_count": 9,
     "metadata": {},
     "output_type": "execute_result"
    },
    {
     "data": {
      "image/png": "[encoded data removed]",
      "text/plain": [
       "<Figure size 432x288 with 1 Axes>"
      ]
     },
     "metadata": {
      "needs_background": "light"
     },
     "output_type": "display_data"
    }
   ],
   "source": [
    "sns.countplot(data=df, x='review_type')"
   ]
  },
  {
   "cell_type": "markdown",
   "id": "c3ebfebb",
   "metadata": {},
   "source": [
    "We do see there is a Class Imbalance in the Target variable. So we will be treating the class imbalance with Under Sampling teachnique since we have a larget amount of data."
   ]
  },
  {
   "cell_type": "code",
   "execution_count": 10,
   "id": "fa29bb10",
   "metadata": {},
   "outputs": [
    {
     "data": {
      "text/plain": [
       "1    63.77026\n",
       "0    36.22974\n",
       "Name: review_type, dtype: float64"
      ]
     },
     "execution_count": 10,
     "metadata": {},
     "output_type": "execute_result"
    }
   ],
   "source": [
    "df['review_type'].value_counts()/df.shape[0]*100"
   ]
  },
  {
   "cell_type": "code",
   "execution_count": 11,
   "id": "20cc7bb8",
   "metadata": {},
   "outputs": [
    {
     "data": {
      "text/plain": [
       "1    668679\n",
       "0    379896\n",
       "Name: review_type, dtype: int64"
      ]
     },
     "execution_count": 11,
     "metadata": {},
     "output_type": "execute_result"
    }
   ],
   "source": [
    "df['review_type'].value_counts()"
   ]
  },
  {
   "cell_type": "markdown",
   "id": "7e3de29c",
   "metadata": {},
   "source": [
    "## Dealing with Missing Values"
   ]
  },
  {
   "cell_type": "code",
   "execution_count": 12,
   "id": "8013ecbf",
   "metadata": {},
   "outputs": [
    {
     "data": {
      "text/plain": [
       "61437"
      ]
     },
     "execution_count": 12,
     "metadata": {},
     "output_type": "execute_result"
    }
   ],
   "source": [
    "df['review_content'].isnull().sum()"
   ]
  },
  {
   "cell_type": "code",
   "execution_count": 13,
   "id": "12ae6278",
   "metadata": {},
   "outputs": [],
   "source": [
    "df.dropna(inplace=True)   #Dropping the missing reviews"
   ]
  },
  {
   "cell_type": "code",
   "execution_count": 14,
   "id": "901074c9",
   "metadata": {},
   "outputs": [
    {
     "data": {
      "text/plain": [
       "1    632087\n",
       "0    355051\n",
       "Name: review_type, dtype: int64"
      ]
     },
     "execution_count": 14,
     "metadata": {},
     "output_type": "execute_result"
    }
   ],
   "source": [
    "df['review_type'].value_counts()"
   ]
  },
  {
   "cell_type": "code",
   "execution_count": 15,
   "id": "98b8f943",
   "metadata": {},
   "outputs": [],
   "source": [
    "X=df['review_content']\n",
    "y=df['review_type']"
   ]
  },
  {
   "cell_type": "markdown",
   "id": "5ce2e3c7",
   "metadata": {},
   "source": [
    "## Undersampling - To treat class imbalance"
   ]
  },
  {
   "cell_type": "code",
   "execution_count": 16,
   "id": "41516559",
   "metadata": {},
   "outputs": [
    {
     "name": "stdout",
     "output_type": "stream",
     "text": [
      "355051\n"
     ]
    }
   ],
   "source": [
    "minority_class_len =len(df[df['review_type']==0])\n",
    "print(minority_class_len)"
   ]
  },
  {
   "cell_type": "code",
   "execution_count": 17,
   "id": "3a07590c",
   "metadata": {},
   "outputs": [
    {
     "name": "stdout",
     "output_type": "stream",
     "text": [
      "Int64Index([      0,       1,       2,       3,       7,       8,       9,\n",
      "                 10,      13,      15,\n",
      "            ...\n",
      "            1048552, 1048555, 1048558, 1048561, 1048564, 1048565, 1048566,\n",
      "            1048569, 1048571, 1048574],\n",
      "           dtype='int64', length=632087)\n"
     ]
    }
   ],
   "source": [
    "majority_class_indices =df[df['review_type']==1].index\n",
    "print(majority_class_indices)"
   ]
  },
  {
   "cell_type": "code",
   "execution_count": 18,
   "id": "58ed8bf7",
   "metadata": {},
   "outputs": [
    {
     "name": "stdout",
     "output_type": "stream",
     "text": [
      "355051\n"
     ]
    }
   ],
   "source": [
    "random_majority_indices=np.random.choice(majority_class_indices,minority_class_len,replace=False)\n",
    "print(len(random_majority_indices))"
   ]
  },
  {
   "cell_type": "code",
   "execution_count": 19,
   "id": "12ef7fc3",
   "metadata": {},
   "outputs": [
    {
     "name": "stdout",
     "output_type": "stream",
     "text": [
      "Int64Index([      4,       5,       6,      11,      12,      14,      17,\n",
      "                 19,      21,      22,\n",
      "            ...\n",
      "            1048557, 1048559, 1048560, 1048562, 1048563, 1048567, 1048568,\n",
      "            1048570, 1048572, 1048573],\n",
      "           dtype='int64', length=355051)\n"
     ]
    }
   ],
   "source": [
    "minority_class_indices=df[df['review_type'] == 0].index\n",
    "print(minority_class_indices)"
   ]
  },
  {
   "cell_type": "code",
   "execution_count": 20,
   "id": "68ae2c1b",
   "metadata": {},
   "outputs": [],
   "source": [
    "undersample_indices=np.concatenate([minority_class_indices,random_majority_indices])"
   ]
  },
  {
   "cell_type": "code",
   "execution_count": 21,
   "id": "105e97bb",
   "metadata": {},
   "outputs": [],
   "source": [
    "undersample=df.loc[undersample_indices]"
   ]
  },
  {
   "cell_type": "code",
   "execution_count": 22,
   "id": "0548c52b",
   "metadata": {},
   "outputs": [
    {
     "data": {
      "text/html": [
       "<div>\n",
       "<style scoped>\n",
       "    .dataframe tbody tr th:only-of-type {\n",
       "        vertical-align: middle;\n",
       "    }\n",
       "\n",
       "    .dataframe tbody tr th {\n",
       "        vertical-align: top;\n",
       "    }\n",
       "\n",
       "    .dataframe thead th {\n",
       "        text-align: right;\n",
       "    }\n",
       "</style>\n",
       "<table border=\"1\" class=\"dataframe\">\n",
       "  <thead>\n",
       "    <tr style=\"text-align: right;\">\n",
       "      <th></th>\n",
       "      <th>review_type</th>\n",
       "      <th>review_content</th>\n",
       "    </tr>\n",
       "  </thead>\n",
       "  <tbody>\n",
       "    <tr>\n",
       "      <th>4</th>\n",
       "      <td>0</td>\n",
       "      <td>What's really lacking in The Lightning Thief is a genuine sense of wonder, the same thing that brings viewers back to Hogwarts over and over again.</td>\n",
       "    </tr>\n",
       "    <tr>\n",
       "      <th>5</th>\n",
       "      <td>0</td>\n",
       "      <td>It's more a list of ingredients than a movie-magic potion to enjoy from start to finish.</td>\n",
       "    </tr>\n",
       "    <tr>\n",
       "      <th>6</th>\n",
       "      <td>0</td>\n",
       "      <td>Harry Potter knockoffs don't come more transparent and slapdash than this wannabe-franchise jumpstarter directed by Chris Columbus.</td>\n",
       "    </tr>\n",
       "    <tr>\n",
       "      <th>11</th>\n",
       "      <td>0</td>\n",
       "      <td>For what it is and for whom it is intended, it's not a bad movie, just an indifferent one.</td>\n",
       "    </tr>\n",
       "    <tr>\n",
       "      <th>12</th>\n",
       "      <td>0</td>\n",
       "      <td>Chris Columbus returns to his comfort zone for this mirthless, episodic fantasy saga based on the young-reader book series by Rick Riordan.</td>\n",
       "    </tr>\n",
       "    <tr>\n",
       "      <th>...</th>\n",
       "      <td>...</td>\n",
       "      <td>...</td>\n",
       "    </tr>\n",
       "    <tr>\n",
       "      <th>807431</th>\n",
       "      <td>1</td>\n",
       "      <td>A pill-popping drama that suddenly turns into something entirely different.</td>\n",
       "    </tr>\n",
       "    <tr>\n",
       "      <th>620009</th>\n",
       "      <td>1</td>\n",
       "      <td>Neighbouring Sounds is a clever, original drama of social concern, with trivial incidents barely masking deep social fissures.</td>\n",
       "    </tr>\n",
       "    <tr>\n",
       "      <th>93241</th>\n",
       "      <td>1</td>\n",
       "      <td>50/50 is not just another crude piece of mockery. Crude at times, yes, but at its occasionally uneven soul is a very funny and bluntly moving tale...</td>\n",
       "    </tr>\n",
       "    <tr>\n",
       "      <th>464979</th>\n",
       "      <td>1</td>\n",
       "      <td>What buoys the film and really makes it work are strong performances by its cast, many of them young newcomers.</td>\n",
       "    </tr>\n",
       "    <tr>\n",
       "      <th>927674</th>\n",
       "      <td>1</td>\n",
       "      <td>Made me laugh, made me care and didn't insult my intelligence. It's almost as fun as making a baby yourself.</td>\n",
       "    </tr>\n",
       "  </tbody>\n",
       "</table>\n",
       "<p>710102 rows × 2 columns</p>\n",
       "</div>"
      ],
      "text/plain": [
       "        review_type  \\\n",
       "4                 0   \n",
       "5                 0   \n",
       "6                 0   \n",
       "11                0   \n",
       "12                0   \n",
       "...             ...   \n",
       "807431            1   \n",
       "620009            1   \n",
       "93241             1   \n",
       "464979            1   \n",
       "927674            1   \n",
       "\n",
       "                                                                                                                                               review_content  \n",
       "4         What's really lacking in The Lightning Thief is a genuine sense of wonder, the same thing that brings viewers back to Hogwarts over and over again.  \n",
       "5                                                                    It's more a list of ingredients than a movie-magic potion to enjoy from start to finish.  \n",
       "6                         Harry Potter knockoffs don't come more transparent and slapdash than this wannabe-franchise jumpstarter directed by Chris Columbus.  \n",
       "11                                                                 For what it is and for whom it is intended, it's not a bad movie, just an indifferent one.  \n",
       "12                Chris Columbus returns to his comfort zone for this mirthless, episodic fantasy saga based on the young-reader book series by Rick Riordan.  \n",
       "...                                                                                                                                                       ...  \n",
       "807431                                                                            A pill-popping drama that suddenly turns into something entirely different.  \n",
       "620009                         Neighbouring Sounds is a clever, original drama of social concern, with trivial incidents barely masking deep social fissures.  \n",
       "93241   50/50 is not just another crude piece of mockery. Crude at times, yes, but at its occasionally uneven soul is a very funny and bluntly moving tale...  \n",
       "464979                                        What buoys the film and really makes it work are strong performances by its cast, many of them young newcomers.  \n",
       "927674                                           Made me laugh, made me care and didn't insult my intelligence. It's almost as fun as making a baby yourself.  \n",
       "\n",
       "[710102 rows x 2 columns]"
      ]
     },
     "execution_count": 22,
     "metadata": {},
     "output_type": "execute_result"
    }
   ],
   "source": [
    "undersample"
   ]
  },
  {
   "cell_type": "code",
   "execution_count": 23,
   "id": "603987a1",
   "metadata": {},
   "outputs": [],
   "source": [
    "path = 'RT.csv'\n",
    "undersample.to_csv(path)"
   ]
  },
  {
   "cell_type": "code",
   "execution_count": 24,
   "id": "0dee7c3d",
   "metadata": {},
   "outputs": [
    {
     "data": {
      "text/html": [
       "<div>\n",
       "<style scoped>\n",
       "    .dataframe tbody tr th:only-of-type {\n",
       "        vertical-align: middle;\n",
       "    }\n",
       "\n",
       "    .dataframe tbody tr th {\n",
       "        vertical-align: top;\n",
       "    }\n",
       "\n",
       "    .dataframe thead th {\n",
       "        text-align: right;\n",
       "    }\n",
       "</style>\n",
       "<table border=\"1\" class=\"dataframe\">\n",
       "  <thead>\n",
       "    <tr style=\"text-align: right;\">\n",
       "      <th></th>\n",
       "      <th>Unnamed: 0</th>\n",
       "      <th>review_type</th>\n",
       "      <th>review_content</th>\n",
       "    </tr>\n",
       "  </thead>\n",
       "  <tbody>\n",
       "    <tr>\n",
       "      <th>0</th>\n",
       "      <td>4</td>\n",
       "      <td>0</td>\n",
       "      <td>What's really lacking in The Lightning Thief is a genuine sense of wonder, the same thing that brings viewers back to Hogwarts over and over again.</td>\n",
       "    </tr>\n",
       "    <tr>\n",
       "      <th>1</th>\n",
       "      <td>5</td>\n",
       "      <td>0</td>\n",
       "      <td>It's more a list of ingredients than a movie-magic potion to enjoy from start to finish.</td>\n",
       "    </tr>\n",
       "    <tr>\n",
       "      <th>2</th>\n",
       "      <td>6</td>\n",
       "      <td>0</td>\n",
       "      <td>Harry Potter knockoffs don't come more transparent and slapdash than this wannabe-franchise jumpstarter directed by Chris Columbus.</td>\n",
       "    </tr>\n",
       "    <tr>\n",
       "      <th>3</th>\n",
       "      <td>11</td>\n",
       "      <td>0</td>\n",
       "      <td>For what it is and for whom it is intended, it's not a bad movie, just an indifferent one.</td>\n",
       "    </tr>\n",
       "    <tr>\n",
       "      <th>4</th>\n",
       "      <td>12</td>\n",
       "      <td>0</td>\n",
       "      <td>Chris Columbus returns to his comfort zone for this mirthless, episodic fantasy saga based on the young-reader book series by Rick Riordan.</td>\n",
       "    </tr>\n",
       "  </tbody>\n",
       "</table>\n",
       "</div>"
      ],
      "text/plain": [
       "   Unnamed: 0  review_type  \\\n",
       "0           4            0   \n",
       "1           5            0   \n",
       "2           6            0   \n",
       "3          11            0   \n",
       "4          12            0   \n",
       "\n",
       "                                                                                                                                        review_content  \n",
       "0  What's really lacking in The Lightning Thief is a genuine sense of wonder, the same thing that brings viewers back to Hogwarts over and over again.  \n",
       "1                                                             It's more a list of ingredients than a movie-magic potion to enjoy from start to finish.  \n",
       "2                  Harry Potter knockoffs don't come more transparent and slapdash than this wannabe-franchise jumpstarter directed by Chris Columbus.  \n",
       "3                                                           For what it is and for whom it is intended, it's not a bad movie, just an indifferent one.  \n",
       "4          Chris Columbus returns to his comfort zone for this mirthless, episodic fantasy saga based on the young-reader book series by Rick Riordan.  "
      ]
     },
     "execution_count": 24,
     "metadata": {},
     "output_type": "execute_result"
    }
   ],
   "source": [
    "df1 = pd.read_csv('C:\\\\Users\\\\am236\\\\OneDrive - DXC Production\\\\Desktop\\\\DSBA\\\\Machine Learning\\\\Python Notebook\\\\RT.csv')\n",
    "df1.head()"
   ]
  },
  {
   "cell_type": "code",
   "execution_count": 25,
   "id": "b01e0997",
   "metadata": {},
   "outputs": [
    {
     "data": {
      "text/plain": [
       "(710102, 3)"
      ]
     },
     "execution_count": 25,
     "metadata": {},
     "output_type": "execute_result"
    }
   ],
   "source": [
    "df1.shape"
   ]
  },
  {
   "cell_type": "code",
   "execution_count": 26,
   "id": "617e7eb1",
   "metadata": {},
   "outputs": [],
   "source": [
    "df1.drop(['Unnamed: 0'],axis=1,inplace =True)"
   ]
  },
  {
   "cell_type": "code",
   "execution_count": 27,
   "id": "311cbd34",
   "metadata": {},
   "outputs": [
    {
     "data": {
      "text/html": [
       "<div>\n",
       "<style scoped>\n",
       "    .dataframe tbody tr th:only-of-type {\n",
       "        vertical-align: middle;\n",
       "    }\n",
       "\n",
       "    .dataframe tbody tr th {\n",
       "        vertical-align: top;\n",
       "    }\n",
       "\n",
       "    .dataframe thead th {\n",
       "        text-align: right;\n",
       "    }\n",
       "</style>\n",
       "<table border=\"1\" class=\"dataframe\">\n",
       "  <thead>\n",
       "    <tr style=\"text-align: right;\">\n",
       "      <th></th>\n",
       "      <th>review_type</th>\n",
       "      <th>review_content</th>\n",
       "    </tr>\n",
       "  </thead>\n",
       "  <tbody>\n",
       "    <tr>\n",
       "      <th>0</th>\n",
       "      <td>0</td>\n",
       "      <td>What's really lacking in The Lightning Thief is a genuine sense of wonder, the same thing that brings viewers back to Hogwarts over and over again.</td>\n",
       "    </tr>\n",
       "    <tr>\n",
       "      <th>1</th>\n",
       "      <td>0</td>\n",
       "      <td>It's more a list of ingredients than a movie-magic potion to enjoy from start to finish.</td>\n",
       "    </tr>\n",
       "    <tr>\n",
       "      <th>2</th>\n",
       "      <td>0</td>\n",
       "      <td>Harry Potter knockoffs don't come more transparent and slapdash than this wannabe-franchise jumpstarter directed by Chris Columbus.</td>\n",
       "    </tr>\n",
       "    <tr>\n",
       "      <th>3</th>\n",
       "      <td>0</td>\n",
       "      <td>For what it is and for whom it is intended, it's not a bad movie, just an indifferent one.</td>\n",
       "    </tr>\n",
       "    <tr>\n",
       "      <th>4</th>\n",
       "      <td>0</td>\n",
       "      <td>Chris Columbus returns to his comfort zone for this mirthless, episodic fantasy saga based on the young-reader book series by Rick Riordan.</td>\n",
       "    </tr>\n",
       "  </tbody>\n",
       "</table>\n",
       "</div>"
      ],
      "text/plain": [
       "   review_type  \\\n",
       "0            0   \n",
       "1            0   \n",
       "2            0   \n",
       "3            0   \n",
       "4            0   \n",
       "\n",
       "                                                                                                                                        review_content  \n",
       "0  What's really lacking in The Lightning Thief is a genuine sense of wonder, the same thing that brings viewers back to Hogwarts over and over again.  \n",
       "1                                                             It's more a list of ingredients than a movie-magic potion to enjoy from start to finish.  \n",
       "2                  Harry Potter knockoffs don't come more transparent and slapdash than this wannabe-franchise jumpstarter directed by Chris Columbus.  \n",
       "3                                                           For what it is and for whom it is intended, it's not a bad movie, just an indifferent one.  \n",
       "4          Chris Columbus returns to his comfort zone for this mirthless, episodic fantasy saga based on the young-reader book series by Rick Riordan.  "
      ]
     },
     "execution_count": 27,
     "metadata": {},
     "output_type": "execute_result"
    }
   ],
   "source": [
    "df1.head()"
   ]
  },
  {
   "cell_type": "code",
   "execution_count": 28,
   "id": "bda0447c",
   "metadata": {},
   "outputs": [
    {
     "data": {
      "text/plain": [
       "<AxesSubplot:xlabel='review_type', ylabel='count'>"
      ]
     },
     "execution_count": 28,
     "metadata": {},
     "output_type": "execute_result"
    },
    {
     "data": {
      "image/png": "[encoded data removed]",
      "text/plain": [
       "<Figure size 432x288 with 1 Axes>"
      ]
     },
     "metadata": {
      "needs_background": "light"
     },
     "output_type": "display_data"
    }
   ],
   "source": [
    "sns.countplot(data=df1, x='review_type')"
   ]
  },
  {
   "cell_type": "markdown",
   "id": "04642173",
   "metadata": {},
   "source": [
    "As we can see, we have treated the Class imbalance and now accuracy can be a performance evaluation metric."
   ]
  },
  {
   "cell_type": "code",
   "execution_count": 29,
   "id": "76ce296d",
   "metadata": {},
   "outputs": [
    {
     "data": {
      "text/plain": [
       "0    355051\n",
       "1    355051\n",
       "Name: review_type, dtype: int64"
      ]
     },
     "execution_count": 29,
     "metadata": {},
     "output_type": "execute_result"
    }
   ],
   "source": [
    "df1['review_type'].value_counts()"
   ]
  },
  {
   "cell_type": "code",
   "execution_count": 30,
   "id": "d3d38d9b",
   "metadata": {},
   "outputs": [],
   "source": [
    "X=df1['review_content']\n",
    "y=df1['review_type']"
   ]
  },
  {
   "cell_type": "markdown",
   "id": "9bc60082",
   "metadata": {},
   "source": [
    "## Train_Test_Split"
   ]
  },
  {
   "cell_type": "code",
   "execution_count": 31,
   "id": "d6d3b0bc",
   "metadata": {},
   "outputs": [],
   "source": [
    "from sklearn.model_selection import train_test_split"
   ]
  },
  {
   "cell_type": "code",
   "execution_count": 32,
   "id": "3a93acd2",
   "metadata": {},
   "outputs": [],
   "source": [
    "X_train,X_test,y_train,y_test = train_test_split(X, y,random_state=85, stratify=y)"
   ]
  },
  {
   "cell_type": "code",
   "execution_count": 33,
   "id": "34b0562e",
   "metadata": {},
   "outputs": [
    {
     "data": {
      "text/plain": [
       "607431    Ronald Coleman is one of the greatest leading men in American cinema. High tea style acting mixed with an air of swashbuckling macho. Zenda is a t...\n",
       "232642                                                                          ...a blatant cash grab that has nothing to do with the source's sense of dread.\n",
       "657699    Get Out finds that sweet spot of laughs, chills, and social commentary. It's so flat-out entertaining, you might not even notice how scathing it r...\n",
       "120003                                                                                                                   ...an entirely needless piece of work.\n",
       "296446    Talented actors McGregor, Watts and Gosling are wasted in a pretentious thriller that's located in a space between reality and illusion, life and ...\n",
       "                                                                                  ...                                                                          \n",
       "584538                 It is a jumble of plotpoints and characters that can be maddening to follow, but one that somehow coalesces into a soft-hearted romance.\n",
       "564627    The film's not for anyone who gets nauseous watching handheld camera footage or who's looking for insightful drama. This is simply a grade A, 100 ...\n",
       "439598                                                         ...this phantasmagoria plays the audience like a fiddle, weaving a deeply unsettling sea shanty.\n",
       "165534                                                    This extremely formulaic time-waster offers little beyond its lame Hallmark greeting-card platitudes.\n",
       "381483                          The spare and unsparing tone of I'll Sleep When I'm Dead makes it as existential -- and as original -- a whodunit as they come.\n",
       "Name: review_content, Length: 532576, dtype: object"
      ]
     },
     "execution_count": 33,
     "metadata": {},
     "output_type": "execute_result"
    }
   ],
   "source": [
    "X_train"
   ]
  },
  {
   "cell_type": "code",
   "execution_count": 34,
   "id": "ba5a1ea5",
   "metadata": {},
   "outputs": [],
   "source": [
    "from sklearn.feature_extraction.text import CountVectorizer"
   ]
  },
  {
   "cell_type": "code",
   "execution_count": 35,
   "id": "36ed700c",
   "metadata": {},
   "outputs": [],
   "source": [
    "max_words = 1000 # N most common words are kept\n",
    "cv = CountVectorizer(lowercase=True, \n",
    "                     stop_words= 'english',\n",
    "                     max_df= 0.95,\n",
    "                     max_features= max_words,\n",
    "                     ngram_range=(1, 1))"
   ]
  },
  {
   "cell_type": "code",
   "execution_count": 36,
   "id": "f36141ef",
   "metadata": {},
   "outputs": [],
   "source": [
    "count_train = cv.fit_transform(X_train)\n",
    "count_test = cv.transform(X_test)"
   ]
  },
  {
   "cell_type": "code",
   "execution_count": 37,
   "id": "e8f65a9a",
   "metadata": {},
   "outputs": [
    {
     "data": {
      "text/plain": [
       "<532576x1000 sparse matrix of type '<class 'numpy.int64'>'\n",
       "\twith 2889660 stored elements in Compressed Sparse Row format>"
      ]
     },
     "execution_count": 37,
     "metadata": {},
     "output_type": "execute_result"
    }
   ],
   "source": [
    "count_train"
   ]
  },
  {
   "cell_type": "code",
   "execution_count": 38,
   "id": "637ece49",
   "metadata": {},
   "outputs": [
    {
     "name": "stderr",
     "output_type": "stream",
     "text": [
      "C:\\Users\\am236\\Anaconda3\\lib\\site-packages\\sklearn\\utils\\deprecation.py:87: FutureWarning: Function get_feature_names is deprecated; get_feature_names is deprecated in 1.0 and will be removed in 1.2. Please use get_feature_names_out instead.\n",
      "  warnings.warn(msg, category=FutureWarning)\n"
     ]
    },
    {
     "data": {
      "text/html": [
       "<div>\n",
       "<style scoped>\n",
       "    .dataframe tbody tr th:only-of-type {\n",
       "        vertical-align: middle;\n",
       "    }\n",
       "\n",
       "    .dataframe tbody tr th {\n",
       "        vertical-align: top;\n",
       "    }\n",
       "\n",
       "    .dataframe thead th {\n",
       "        text-align: right;\n",
       "    }\n",
       "</style>\n",
       "<table border=\"1\" class=\"dataframe\">\n",
       "  <thead>\n",
       "    <tr style=\"text-align: right;\">\n",
       "      <th></th>\n",
       "      <th>10</th>\n",
       "      <th>3d</th>\n",
       "      <th>90</th>\n",
       "      <th>ability</th>\n",
       "      <th>able</th>\n",
       "      <th>absolutely</th>\n",
       "      <th>act</th>\n",
       "      <th>acted</th>\n",
       "      <th>acting</th>\n",
       "      <th>action</th>\n",
       "      <th>...</th>\n",
       "      <th>worthy</th>\n",
       "      <th>wouldn</th>\n",
       "      <th>writer</th>\n",
       "      <th>writing</th>\n",
       "      <th>written</th>\n",
       "      <th>wrong</th>\n",
       "      <th>year</th>\n",
       "      <th>years</th>\n",
       "      <th>yes</th>\n",
       "      <th>young</th>\n",
       "    </tr>\n",
       "  </thead>\n",
       "  <tbody>\n",
       "    <tr>\n",
       "      <th>0</th>\n",
       "      <td>0</td>\n",
       "      <td>0</td>\n",
       "      <td>0</td>\n",
       "      <td>0</td>\n",
       "      <td>0</td>\n",
       "      <td>0</td>\n",
       "      <td>0</td>\n",
       "      <td>0</td>\n",
       "      <td>1</td>\n",
       "      <td>0</td>\n",
       "      <td>...</td>\n",
       "      <td>0</td>\n",
       "      <td>0</td>\n",
       "      <td>0</td>\n",
       "      <td>0</td>\n",
       "      <td>0</td>\n",
       "      <td>0</td>\n",
       "      <td>0</td>\n",
       "      <td>0</td>\n",
       "      <td>0</td>\n",
       "      <td>0</td>\n",
       "    </tr>\n",
       "    <tr>\n",
       "      <th>1</th>\n",
       "      <td>0</td>\n",
       "      <td>0</td>\n",
       "      <td>0</td>\n",
       "      <td>0</td>\n",
       "      <td>0</td>\n",
       "      <td>0</td>\n",
       "      <td>0</td>\n",
       "      <td>0</td>\n",
       "      <td>0</td>\n",
       "      <td>0</td>\n",
       "      <td>...</td>\n",
       "      <td>0</td>\n",
       "      <td>0</td>\n",
       "      <td>0</td>\n",
       "      <td>0</td>\n",
       "      <td>0</td>\n",
       "      <td>0</td>\n",
       "      <td>0</td>\n",
       "      <td>0</td>\n",
       "      <td>0</td>\n",
       "      <td>0</td>\n",
       "    </tr>\n",
       "    <tr>\n",
       "      <th>2</th>\n",
       "      <td>0</td>\n",
       "      <td>0</td>\n",
       "      <td>0</td>\n",
       "      <td>0</td>\n",
       "      <td>0</td>\n",
       "      <td>0</td>\n",
       "      <td>0</td>\n",
       "      <td>0</td>\n",
       "      <td>0</td>\n",
       "      <td>0</td>\n",
       "      <td>...</td>\n",
       "      <td>0</td>\n",
       "      <td>0</td>\n",
       "      <td>0</td>\n",
       "      <td>0</td>\n",
       "      <td>0</td>\n",
       "      <td>0</td>\n",
       "      <td>0</td>\n",
       "      <td>0</td>\n",
       "      <td>0</td>\n",
       "      <td>0</td>\n",
       "    </tr>\n",
       "    <tr>\n",
       "      <th>3</th>\n",
       "      <td>0</td>\n",
       "      <td>0</td>\n",
       "      <td>0</td>\n",
       "      <td>0</td>\n",
       "      <td>0</td>\n",
       "      <td>0</td>\n",
       "      <td>0</td>\n",
       "      <td>0</td>\n",
       "      <td>0</td>\n",
       "      <td>0</td>\n",
       "      <td>...</td>\n",
       "      <td>0</td>\n",
       "      <td>0</td>\n",
       "      <td>0</td>\n",
       "      <td>0</td>\n",
       "      <td>0</td>\n",
       "      <td>0</td>\n",
       "      <td>0</td>\n",
       "      <td>0</td>\n",
       "      <td>0</td>\n",
       "      <td>0</td>\n",
       "    </tr>\n",
       "    <tr>\n",
       "      <th>4</th>\n",
       "      <td>0</td>\n",
       "      <td>0</td>\n",
       "      <td>0</td>\n",
       "      <td>0</td>\n",
       "      <td>0</td>\n",
       "      <td>0</td>\n",
       "      <td>0</td>\n",
       "      <td>0</td>\n",
       "      <td>0</td>\n",
       "      <td>0</td>\n",
       "      <td>...</td>\n",
       "      <td>0</td>\n",
       "      <td>0</td>\n",
       "      <td>0</td>\n",
       "      <td>0</td>\n",
       "      <td>0</td>\n",
       "      <td>0</td>\n",
       "      <td>0</td>\n",
       "      <td>0</td>\n",
       "      <td>0</td>\n",
       "      <td>0</td>\n",
       "    </tr>\n",
       "  </tbody>\n",
       "</table>\n",
       "<p>5 rows × 1000 columns</p>\n",
       "</div>"
      ],
      "text/plain": [
       "   10  3d  90  ability  able  absolutely  act  acted  acting  action  ...  \\\n",
       "0   0   0   0        0     0           0    0      0       1       0  ...   \n",
       "1   0   0   0        0     0           0    0      0       0       0  ...   \n",
       "2   0   0   0        0     0           0    0      0       0       0  ...   \n",
       "3   0   0   0        0     0           0    0      0       0       0  ...   \n",
       "4   0   0   0        0     0           0    0      0       0       0  ...   \n",
       "\n",
       "   worthy  wouldn  writer  writing  written  wrong  year  years  yes  young  \n",
       "0       0       0       0        0        0      0     0      0    0      0  \n",
       "1       0       0       0        0        0      0     0      0    0      0  \n",
       "2       0       0       0        0        0      0     0      0    0      0  \n",
       "3       0       0       0        0        0      0     0      0    0      0  \n",
       "4       0       0       0        0        0      0     0      0    0      0  \n",
       "\n",
       "[5 rows x 1000 columns]"
      ]
     },
     "execution_count": 38,
     "metadata": {},
     "output_type": "execute_result"
    }
   ],
   "source": [
    "pd.DataFrame(count_train.A, columns= cv.get_feature_names()).head()"
   ]
  },
  {
   "cell_type": "markdown",
   "id": "2a3a31c3",
   "metadata": {},
   "source": [
    "### Applying ML Algorithms"
   ]
  },
  {
   "cell_type": "code",
   "execution_count": 39,
   "id": "66023e98",
   "metadata": {},
   "outputs": [
    {
     "data": {
      "text/plain": [
       "(532576, 1000)"
      ]
     },
     "execution_count": 39,
     "metadata": {},
     "output_type": "execute_result"
    }
   ],
   "source": [
    "count_train.A.shape"
   ]
  },
  {
   "cell_type": "markdown",
   "id": "308aa0e9",
   "metadata": {},
   "source": [
    "### Naive Bayes Algorithms"
   ]
  },
  {
   "cell_type": "code",
   "execution_count": 40,
   "id": "a6ee6f49",
   "metadata": {},
   "outputs": [],
   "source": [
    "from sklearn.naive_bayes import GaussianNB, MultinomialNB, BernoulliNB"
   ]
  },
  {
   "cell_type": "code",
   "execution_count": 41,
   "id": "47a1301b",
   "metadata": {},
   "outputs": [
    {
     "name": "stdout",
     "output_type": "stream",
     "text": [
      "Train Accuracy:  0.6912421889082497\n",
      "Test Accuracy:  0.6899383752239109\n",
      "Wall time: 1min 23s\n"
     ]
    }
   ],
   "source": [
    "%%time\n",
    "nb = GaussianNB()\n",
    "# nb = BernoulliNB()\n",
    "#nb = MultinomialNB()\n",
    "nb.fit(count_train.A, y_train)\n",
    "\n",
    "print('Train Accuracy: ', nb.score(count_train.A, y_train))\n",
    "print('Test Accuracy: ', nb.score(count_test.A, y_test))"
   ]
  },
  {
   "cell_type": "markdown",
   "id": "d2702128",
   "metadata": {},
   "source": [
    "## TFIDF_Vectorizer"
   ]
  },
  {
   "cell_type": "code",
   "execution_count": 42,
   "id": "b71f3592",
   "metadata": {},
   "outputs": [],
   "source": [
    "from sklearn.feature_extraction.text import TfidfVectorizer"
   ]
  },
  {
   "cell_type": "code",
   "execution_count": 43,
   "id": "c2b20284",
   "metadata": {},
   "outputs": [],
   "source": [
    "max_words = 1000\n",
    "tf = TfidfVectorizer(lowercase=True, \n",
    "                     stop_words= 'english', \n",
    "                     max_df= 0.95, \n",
    "                     max_features= max_words)"
   ]
  },
  {
   "cell_type": "code",
   "execution_count": 44,
   "id": "a62c2107",
   "metadata": {},
   "outputs": [],
   "source": [
    "tf_train = tf.fit_transform(X_train)\n",
    "tf_test = tf.transform(X_test)"
   ]
  },
  {
   "cell_type": "code",
   "execution_count": 45,
   "id": "3673e8ff",
   "metadata": {},
   "outputs": [
    {
     "name": "stderr",
     "output_type": "stream",
     "text": [
      "C:\\Users\\am236\\Anaconda3\\lib\\site-packages\\sklearn\\utils\\deprecation.py:87: FutureWarning: Function get_feature_names is deprecated; get_feature_names is deprecated in 1.0 and will be removed in 1.2. Please use get_feature_names_out instead.\n",
      "  warnings.warn(msg, category=FutureWarning)\n"
     ]
    },
    {
     "data": {
      "text/html": [
       "<div>\n",
       "<style scoped>\n",
       "    .dataframe tbody tr th:only-of-type {\n",
       "        vertical-align: middle;\n",
       "    }\n",
       "\n",
       "    .dataframe tbody tr th {\n",
       "        vertical-align: top;\n",
       "    }\n",
       "\n",
       "    .dataframe thead th {\n",
       "        text-align: right;\n",
       "    }\n",
       "</style>\n",
       "<table border=\"1\" class=\"dataframe\">\n",
       "  <thead>\n",
       "    <tr style=\"text-align: right;\">\n",
       "      <th></th>\n",
       "      <th>10</th>\n",
       "      <th>3d</th>\n",
       "      <th>90</th>\n",
       "      <th>ability</th>\n",
       "      <th>able</th>\n",
       "      <th>absolutely</th>\n",
       "      <th>act</th>\n",
       "      <th>acted</th>\n",
       "      <th>acting</th>\n",
       "      <th>action</th>\n",
       "      <th>...</th>\n",
       "      <th>worthy</th>\n",
       "      <th>wouldn</th>\n",
       "      <th>writer</th>\n",
       "      <th>writing</th>\n",
       "      <th>written</th>\n",
       "      <th>wrong</th>\n",
       "      <th>year</th>\n",
       "      <th>years</th>\n",
       "      <th>yes</th>\n",
       "      <th>young</th>\n",
       "    </tr>\n",
       "  </thead>\n",
       "  <tbody>\n",
       "    <tr>\n",
       "      <th>0</th>\n",
       "      <td>0.0</td>\n",
       "      <td>0.0</td>\n",
       "      <td>0.0</td>\n",
       "      <td>0.0</td>\n",
       "      <td>0.0</td>\n",
       "      <td>0.0</td>\n",
       "      <td>0.0</td>\n",
       "      <td>0.0</td>\n",
       "      <td>0.313215</td>\n",
       "      <td>0.0</td>\n",
       "      <td>...</td>\n",
       "      <td>0.0</td>\n",
       "      <td>0.0</td>\n",
       "      <td>0.0</td>\n",
       "      <td>0.0</td>\n",
       "      <td>0.0</td>\n",
       "      <td>0.0</td>\n",
       "      <td>0.0</td>\n",
       "      <td>0.0</td>\n",
       "      <td>0.0</td>\n",
       "      <td>0.0</td>\n",
       "    </tr>\n",
       "    <tr>\n",
       "      <th>1</th>\n",
       "      <td>0.0</td>\n",
       "      <td>0.0</td>\n",
       "      <td>0.0</td>\n",
       "      <td>0.0</td>\n",
       "      <td>0.0</td>\n",
       "      <td>0.0</td>\n",
       "      <td>0.0</td>\n",
       "      <td>0.0</td>\n",
       "      <td>0.000000</td>\n",
       "      <td>0.0</td>\n",
       "      <td>...</td>\n",
       "      <td>0.0</td>\n",
       "      <td>0.0</td>\n",
       "      <td>0.0</td>\n",
       "      <td>0.0</td>\n",
       "      <td>0.0</td>\n",
       "      <td>0.0</td>\n",
       "      <td>0.0</td>\n",
       "      <td>0.0</td>\n",
       "      <td>0.0</td>\n",
       "      <td>0.0</td>\n",
       "    </tr>\n",
       "    <tr>\n",
       "      <th>2</th>\n",
       "      <td>0.0</td>\n",
       "      <td>0.0</td>\n",
       "      <td>0.0</td>\n",
       "      <td>0.0</td>\n",
       "      <td>0.0</td>\n",
       "      <td>0.0</td>\n",
       "      <td>0.0</td>\n",
       "      <td>0.0</td>\n",
       "      <td>0.000000</td>\n",
       "      <td>0.0</td>\n",
       "      <td>...</td>\n",
       "      <td>0.0</td>\n",
       "      <td>0.0</td>\n",
       "      <td>0.0</td>\n",
       "      <td>0.0</td>\n",
       "      <td>0.0</td>\n",
       "      <td>0.0</td>\n",
       "      <td>0.0</td>\n",
       "      <td>0.0</td>\n",
       "      <td>0.0</td>\n",
       "      <td>0.0</td>\n",
       "    </tr>\n",
       "    <tr>\n",
       "      <th>3</th>\n",
       "      <td>0.0</td>\n",
       "      <td>0.0</td>\n",
       "      <td>0.0</td>\n",
       "      <td>0.0</td>\n",
       "      <td>0.0</td>\n",
       "      <td>0.0</td>\n",
       "      <td>0.0</td>\n",
       "      <td>0.0</td>\n",
       "      <td>0.000000</td>\n",
       "      <td>0.0</td>\n",
       "      <td>...</td>\n",
       "      <td>0.0</td>\n",
       "      <td>0.0</td>\n",
       "      <td>0.0</td>\n",
       "      <td>0.0</td>\n",
       "      <td>0.0</td>\n",
       "      <td>0.0</td>\n",
       "      <td>0.0</td>\n",
       "      <td>0.0</td>\n",
       "      <td>0.0</td>\n",
       "      <td>0.0</td>\n",
       "    </tr>\n",
       "    <tr>\n",
       "      <th>4</th>\n",
       "      <td>0.0</td>\n",
       "      <td>0.0</td>\n",
       "      <td>0.0</td>\n",
       "      <td>0.0</td>\n",
       "      <td>0.0</td>\n",
       "      <td>0.0</td>\n",
       "      <td>0.0</td>\n",
       "      <td>0.0</td>\n",
       "      <td>0.000000</td>\n",
       "      <td>0.0</td>\n",
       "      <td>...</td>\n",
       "      <td>0.0</td>\n",
       "      <td>0.0</td>\n",
       "      <td>0.0</td>\n",
       "      <td>0.0</td>\n",
       "      <td>0.0</td>\n",
       "      <td>0.0</td>\n",
       "      <td>0.0</td>\n",
       "      <td>0.0</td>\n",
       "      <td>0.0</td>\n",
       "      <td>0.0</td>\n",
       "    </tr>\n",
       "  </tbody>\n",
       "</table>\n",
       "<p>5 rows × 1000 columns</p>\n",
       "</div>"
      ],
      "text/plain": [
       "    10   3d   90  ability  able  absolutely  act  acted    acting  action  \\\n",
       "0  0.0  0.0  0.0      0.0   0.0         0.0  0.0    0.0  0.313215     0.0   \n",
       "1  0.0  0.0  0.0      0.0   0.0         0.0  0.0    0.0  0.000000     0.0   \n",
       "2  0.0  0.0  0.0      0.0   0.0         0.0  0.0    0.0  0.000000     0.0   \n",
       "3  0.0  0.0  0.0      0.0   0.0         0.0  0.0    0.0  0.000000     0.0   \n",
       "4  0.0  0.0  0.0      0.0   0.0         0.0  0.0    0.0  0.000000     0.0   \n",
       "\n",
       "   ...  worthy  wouldn  writer  writing  written  wrong  year  years  yes  \\\n",
       "0  ...     0.0     0.0     0.0      0.0      0.0    0.0   0.0    0.0  0.0   \n",
       "1  ...     0.0     0.0     0.0      0.0      0.0    0.0   0.0    0.0  0.0   \n",
       "2  ...     0.0     0.0     0.0      0.0      0.0    0.0   0.0    0.0  0.0   \n",
       "3  ...     0.0     0.0     0.0      0.0      0.0    0.0   0.0    0.0  0.0   \n",
       "4  ...     0.0     0.0     0.0      0.0      0.0    0.0   0.0    0.0  0.0   \n",
       "\n",
       "   young  \n",
       "0    0.0  \n",
       "1    0.0  \n",
       "2    0.0  \n",
       "3    0.0  \n",
       "4    0.0  \n",
       "\n",
       "[5 rows x 1000 columns]"
      ]
     },
     "execution_count": 45,
     "metadata": {},
     "output_type": "execute_result"
    }
   ],
   "source": [
    "pd.DataFrame(tf_train.A, columns= tf.get_feature_names()).head()"
   ]
  },
  {
   "cell_type": "code",
   "execution_count": 46,
   "id": "c04256db",
   "metadata": {},
   "outputs": [
    {
     "name": "stdout",
     "output_type": "stream",
     "text": [
      "Train Accuracy:  0.7066521961184883\n",
      "Test Accuracy:  0.7051192501380079\n",
      "Wall time: 10.1 s\n"
     ]
    }
   ],
   "source": [
    "%%time\n",
    "#nb = GaussianNB()\n",
    "#nb = BernoulliNB()\n",
    "nb = MultinomialNB()\n",
    "nb.fit(tf_train.A, y_train)\n",
    "\n",
    "print('Train Accuracy: ', nb.score(tf_train.A, y_train))\n",
    "print('Test Accuracy: ', nb.score(tf_test.A, y_test))"
   ]
  },
  {
   "cell_type": "markdown",
   "id": "f98f997f",
   "metadata": {},
   "source": [
    "We can see our Model Accuracy is 70% which is not bad at all and the computational cost also very less."
   ]
  },
  {
   "cell_type": "code",
   "execution_count": 47,
   "id": "fb7adb65",
   "metadata": {},
   "outputs": [],
   "source": [
    "from joblib import dump\n"
   ]
  },
  {
   "cell_type": "code",
   "execution_count": 48,
   "id": "195da753",
   "metadata": {},
   "outputs": [
    {
     "data": {
      "text/plain": [
       "['model.joblib']"
      ]
     },
     "execution_count": 48,
     "metadata": {},
     "output_type": "execute_result"
    }
   ],
   "source": [
    "dump(nb,\"model.joblib\")"
   ]
  },
  {
   "cell_type": "code",
   "execution_count": 49,
   "id": "92fa21a2",
   "metadata": {},
   "outputs": [
    {
     "data": {
      "text/plain": [
       "['tfidf_vectors.joblib']"
      ]
     },
     "execution_count": 49,
     "metadata": {},
     "output_type": "execute_result"
    }
   ],
   "source": [
    "dump(tf,\"tfidf_vectors.joblib\")\n"
   ]
  },
  {
   "cell_type": "code",
   "execution_count": null,
   "id": "095552f0",
   "metadata": {},
   "outputs": [],
   "source": []
  }
 ],
 "metadata": {
  "kernelspec": {
   "display_name": "Python 3 (ipykernel)",
   "language": "python",
   "name": "python3"
  },
  "language_info": {
   "codemirror_mode": {
    "name": "ipython",
    "version": 3
   },
   "file_extension": ".py",
   "mimetype": "text/x-python",
   "name": "python",
   "nbconvert_exporter": "python",
   "pygments_lexer": "ipython3",
   "version": "3.9.7"
  }
 },
 "nbformat": 4,
 "nbformat_minor": 5
}
